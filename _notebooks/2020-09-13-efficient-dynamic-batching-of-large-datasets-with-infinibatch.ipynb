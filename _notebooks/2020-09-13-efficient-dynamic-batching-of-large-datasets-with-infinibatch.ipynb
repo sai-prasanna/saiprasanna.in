{
  "nbformat": 4,
  "nbformat_minor": 0,
  "metadata": {
    "colab": {
      "name": "2020-09-13-efficient-dynamic-batching-of-large-datasets-with-infinibatch.ipynb",
      "provenance": [],
      "collapsed_sections": [],
      "toc_visible": true
    },
    "kernelspec": {
      "name": "python3",
      "display_name": "Python 3"
    },
    "widgets": {
      "application/vnd.jupyter.widget-state+json": {
        "4ac9de7d40914f9ca3ac2e32b1c83300": {
          "model_module": "@jupyter-widgets/controls",
          "model_name": "HBoxModel",
          "state": {
            "_view_name": "HBoxView",
            "_dom_classes": [],
            "_model_name": "HBoxModel",
            "_view_module": "@jupyter-widgets/controls",
            "_model_module_version": "1.5.0",
            "_view_count": null,
            "_view_module_version": "1.5.0",
            "box_style": "",
            "layout": "IPY_MODEL_beeaea6b1bfd4d00aa6503086fc58b5c",
            "_model_module": "@jupyter-widgets/controls",
            "children": [
              "IPY_MODEL_2fbceb9ebded411293cddc95f9ecba35",
              "IPY_MODEL_4241770e5d5e4cd2b46ef61e553af9cf"
            ]
          }
        },
        "dcdb7dc95f0846a7a4c1e2fc9c7bd7ea": {
          "model_module": "@jupyter-widgets/controls",
          "model_name": "HBoxModel",
          "state": {
            "_view_name": "HBoxView",
            "_dom_classes": [],
            "_model_name": "HBoxModel",
            "_view_module": "@jupyter-widgets/controls",
            "_model_module_version": "1.5.0",
            "_view_count": null,
            "_view_module_version": "1.5.0",
            "box_style": "",
            "layout": "IPY_MODEL_8c2b21fcc8324b719144b1cb0bfd0233",
            "_model_module": "@jupyter-widgets/controls",
            "children": [
              "IPY_MODEL_84848cf9d52541e9866a48172ee108dd",
              "IPY_MODEL_d043b16a119b48a88757d48f87ab4a2f"
            ]
          }
        }
      }
    }
  },
  "cells": [
    {
      "cell_type": "markdown",
      "metadata": {
        "id": "WY3Vaq8WKY5z",
        "colab_type": "text"
      },
      "source": [
        "# \"Efficient Dynamic Batching of Large Datasets with Infinibatch\"\n",
        "> \"Learn how to efficiently batch large datasets with varied sequence length for training using [infinibatch](https://github.com/microsoft/infinibatch/).\"\n",
        "\n",
        "- toc:true\n",
        "- badges: true\n",
        "- comments: true\n",
        "- categories: [deep learning]"
      ]
    },
    {
      "cell_type": "markdown",
      "metadata": {
        "id": "Bj4jsSbFlK-u",
        "colab_type": "text"
      },
      "source": [
        "We will explore how to efficiently batch large datasets with varied sequence length for training using [infinibatch](https://github.com/microsoft/infinibatch/). The focus will be on solving multiple challenges associated with this and making it work with `dataloader` abstraction in pytorch library. Though our focus is on pytorch, Infinibatch is a pure python library agnostic of the deep learning library.\n",
        "\n",
        "This post was inspired by this thread on twitter.\n",
        "> twitter: https://twitter.com/marian_nmt/status/1292850875715604480\n",
        "\n",
        "> Note: We will use [wikitext-103](https://blog.einstein.ai/the-wikitext-long-term-dependency-language-modeling-dataset/) dataset as an example. It's a dataset with sentences from wikipedia. It has 103,227,021 word level tokens in it's training split. It is used only for illustration, the techniques discussed here are can work for far larger dataset sizes.\n",
        "\n"
      ]
    },
    {
      "cell_type": "code",
      "metadata": {
        "id": "9xplIYEiLyok",
        "colab_type": "code",
        "colab": {
          "base_uri": "https://localhost:8080/",
          "height": 295
        },
        "outputId": "133b290c-afe2-4ba2-b467-702a100fcce4"
      },
      "source": [
        "#collapse-hide\n",
        "#hide_output\n",
        "!wget https://s3.amazonaws.com/research.metamind.io/wikitext/wikitext-103-raw-v1.zip\n",
        "!unzip wikitext-103-raw-v1.zip"
      ],
      "execution_count": null,
      "outputs": [
        {
          "output_type": "stream",
          "text": [
            "--2020-09-14 11:31:28--  https://s3.amazonaws.com/research.metamind.io/wikitext/wikitext-103-raw-v1.zip\n",
            "Resolving s3.amazonaws.com (s3.amazonaws.com)... 52.217.88.158\n",
            "Connecting to s3.amazonaws.com (s3.amazonaws.com)|52.217.88.158|:443... connected.\n",
            "HTTP request sent, awaiting response... 200 OK\n",
            "Length: 191984949 (183M) [application/zip]\n",
            "Saving to: ‘wikitext-103-raw-v1.zip’\n",
            "\n",
            "wikitext-103-raw-v1 100%[===================>] 183.09M  58.0MB/s    in 3.2s    \n",
            "\n",
            "2020-09-14 11:31:31 (58.0 MB/s) - ‘wikitext-103-raw-v1.zip’ saved [191984949/191984949]\n",
            "\n",
            "Archive:  wikitext-103-raw-v1.zip\n",
            "   creating: wikitext-103-raw/\n",
            "  inflating: wikitext-103-raw/wiki.test.raw  \n",
            "  inflating: wikitext-103-raw/wiki.valid.raw  \n",
            "  inflating: wikitext-103-raw/wiki.train.raw  \n"
          ],
          "name": "stdout"
        }
      ]
    },
    {
      "cell_type": "markdown",
      "metadata": {
        "id": "wnhybuwaqgby",
        "colab_type": "text"
      },
      "source": [
        "# Challenges in efficiently processing large datasets\n"
      ]
    },
    {
      "cell_type": "markdown",
      "metadata": {
        "id": "a50eXnE1qePX",
        "colab_type": "text"
      },
      "source": [
        "\n",
        "## 1. Loading and shuffling large datasets\n",
        "\n",
        "For large datasets, loading the entire data into memory might not be possible. If we were to sample fully random batches we need to do random access on huge dataset. Depending on the disk latency this might be unfeasible. \n",
        "\n",
        "To solve this we can do the following.\n",
        "\n",
        "1. Shard the data into chunks larger than single instances so that it reduces the disk access.\n",
        "2. Shuffle the chunks and load few of them and shuffle the data loaded from the chunks.\n",
        "\n",
        "If we shard the pieces into too big chunks we might end up loosing statistical power in our training updates as we are essentially reducing the randomness of our samples used for training. But we can't shard them too small either as that wouldn't solve our disk access problem.\n",
        "\n",
        "We need a flexible approach would make it easy to control how much data is to be loaded into memory for shuffling. To address this challenge in isolation, you can refer dataset sharding logic in NVIDIA's [MEGATRON language model training code](https://github.com/NVIDIA/Megatron-LM/blob/main/megatron/data/indexed_dataset.py). But infinibatch solves it in a more generalized manner along with our other challenges.\n",
        "\n"
      ]
    },
    {
      "cell_type": "markdown",
      "metadata": {
        "id": "gyYlC3d2pIaE",
        "colab_type": "text"
      },
      "source": [
        "\n",
        "\n",
        "## 2. Dynamic Batching\n",
        "\n",
        "NLP datasets generally have samples which are of varied lengths. When we batch the data for training on devices like GPU, we are forced to make them into n-dimensional tensors with fixed dimension. The most common type of input for NLP models is of the shape **Mini-batch size x Sequence length**. The sequence length is either a fixed value or is the length of longest sequence in that batch. The shorter sequences in the minii-batch are generally padded with a *padding token*. These padding tokens are wasteful in terms of computation as they don't do anything useful.\n",
        "\n",
        "Some tutorials and examples you would find for pre-processing data would pad batches to a pre-determined sequence length independent of the elements in each batch. This is fully wasteful as many batches would have all the members less than the pre-determined length.\n",
        "\n",
        "A better option would be to pad the elements of each batch to the sequence length which is maximum in that batch. This **dynamic padding** can improve efficiency but it doesn't solve the entire problem. Let's see why with an example.\n"
      ]
    },
    {
      "cell_type": "markdown",
      "metadata": {
        "id": "OOqvSNd7tb1Y",
        "colab_type": "text"
      },
      "source": [
        ""
      ]
    },
    {
      "cell_type": "markdown",
      "metadata": {
        "id": "Xcpcs7GYdOHi",
        "colab_type": "text"
      },
      "source": [
        "### Tokenization and length distribution\n",
        "\n",
        "Let's implement a typical dynamic padding workflow with pytorch dataloader and a subword level tokenizer. We use BERT-base-cased tokenizer from huggingface's transformers library. This tokenizes words to subwords. The BERT model was pre-trained with maximum subword length of 512. We can theoretically use sequence lengths larger than that but for our purposes we will leave it as such at 512.\n",
        "\n",
        "\n",
        "We will use torch's [dataset and dataloader](https://pytorch.org/docs/stable/data.html) abstraction for this. It will as both an illustration of real world usage and is convinent as it helps avoid having to entire tokenized dataset in memory. We still have to load the sentences into memory once. This is not a problem for small datasets, but for very large corpuses it's a big problem as mentioned before.\n"
      ]
    },
    {
      "cell_type": "code",
      "metadata": {
        "id": "Cvo8_-6apo3X",
        "colab_type": "code",
        "colab": {
          "base_uri": "https://localhost:8080/",
          "height": 781
        },
        "outputId": "148263fb-7240-480f-f4ba-3f1b999d1a9e"
      },
      "source": [
        "#collapse-hide\n",
        "#hide_output\n",
        "!pip install git+https://github.com/microsoft/infinibatch.git transformers torch\n",
        "from typing import Dict, List\n",
        "import torch\n",
        "from torch.utils.data import Dataset, DataLoader\n",
        "import tqdm\n",
        "from transformers import AutoTokenizer, PreTrainedTokenizerFast\n",
        "\n",
        "import numpy as np\n",
        "import matplotlib.pyplot as plt\n",
        "import seaborn as sns\n",
        "import torch\n",
        "\n",
        "%matplotlib inline"
      ],
      "execution_count": null,
      "outputs": [
        {
          "output_type": "stream",
          "text": [
            "Collecting git+https://github.com/microsoft/infinibatch.git\n",
            "  Cloning https://github.com/microsoft/infinibatch.git to /tmp/pip-req-build-504eykrr\n",
            "  Running command git clone -q https://github.com/microsoft/infinibatch.git /tmp/pip-req-build-504eykrr\n",
            "Collecting transformers\n",
            "\u001b[?25l  Downloading https://files.pythonhosted.org/packages/ae/05/c8c55b600308dc04e95100dc8ad8a244dd800fe75dfafcf1d6348c6f6209/transformers-3.1.0-py3-none-any.whl (884kB)\n",
            "\u001b[K     |████████████████████████████████| 890kB 2.8MB/s \n",
            "\u001b[?25hRequirement already satisfied: torch in /usr/local/lib/python3.6/dist-packages (1.6.0+cu101)\n",
            "Collecting sacremoses\n",
            "\u001b[?25l  Downloading https://files.pythonhosted.org/packages/7d/34/09d19aff26edcc8eb2a01bed8e98f13a1537005d31e95233fd48216eed10/sacremoses-0.0.43.tar.gz (883kB)\n",
            "\u001b[K     |████████████████████████████████| 890kB 14.4MB/s \n",
            "\u001b[?25hCollecting tokenizers==0.8.1.rc2\n",
            "\u001b[?25l  Downloading https://files.pythonhosted.org/packages/80/83/8b9fccb9e48eeb575ee19179e2bdde0ee9a1904f97de5f02d19016b8804f/tokenizers-0.8.1rc2-cp36-cp36m-manylinux1_x86_64.whl (3.0MB)\n",
            "\u001b[K     |████████████████████████████████| 3.0MB 17.3MB/s \n",
            "\u001b[?25hRequirement already satisfied: requests in /usr/local/lib/python3.6/dist-packages (from transformers) (2.23.0)\n",
            "Requirement already satisfied: regex!=2019.12.17 in /usr/local/lib/python3.6/dist-packages (from transformers) (2019.12.20)\n",
            "Collecting sentencepiece!=0.1.92\n",
            "\u001b[?25l  Downloading https://files.pythonhosted.org/packages/d4/a4/d0a884c4300004a78cca907a6ff9a5e9fe4f090f5d95ab341c53d28cbc58/sentencepiece-0.1.91-cp36-cp36m-manylinux1_x86_64.whl (1.1MB)\n",
            "\u001b[K     |████████████████████████████████| 1.1MB 24.3MB/s \n",
            "\u001b[?25hRequirement already satisfied: filelock in /usr/local/lib/python3.6/dist-packages (from transformers) (3.0.12)\n",
            "Requirement already satisfied: tqdm>=4.27 in /usr/local/lib/python3.6/dist-packages (from transformers) (4.41.1)\n",
            "Requirement already satisfied: dataclasses; python_version < \"3.7\" in /usr/local/lib/python3.6/dist-packages (from transformers) (0.7)\n",
            "Requirement already satisfied: numpy in /usr/local/lib/python3.6/dist-packages (from transformers) (1.18.5)\n",
            "Requirement already satisfied: packaging in /usr/local/lib/python3.6/dist-packages (from transformers) (20.4)\n",
            "Requirement already satisfied: future in /usr/local/lib/python3.6/dist-packages (from torch) (0.16.0)\n",
            "Requirement already satisfied: six in /usr/local/lib/python3.6/dist-packages (from sacremoses->transformers) (1.15.0)\n",
            "Requirement already satisfied: click in /usr/local/lib/python3.6/dist-packages (from sacremoses->transformers) (7.1.2)\n",
            "Requirement already satisfied: joblib in /usr/local/lib/python3.6/dist-packages (from sacremoses->transformers) (0.16.0)\n",
            "Requirement already satisfied: idna<3,>=2.5 in /usr/local/lib/python3.6/dist-packages (from requests->transformers) (2.10)\n",
            "Requirement already satisfied: urllib3!=1.25.0,!=1.25.1,<1.26,>=1.21.1 in /usr/local/lib/python3.6/dist-packages (from requests->transformers) (1.24.3)\n",
            "Requirement already satisfied: chardet<4,>=3.0.2 in /usr/local/lib/python3.6/dist-packages (from requests->transformers) (3.0.4)\n",
            "Requirement already satisfied: certifi>=2017.4.17 in /usr/local/lib/python3.6/dist-packages (from requests->transformers) (2020.6.20)\n",
            "Requirement already satisfied: pyparsing>=2.0.2 in /usr/local/lib/python3.6/dist-packages (from packaging->transformers) (2.4.7)\n",
            "Building wheels for collected packages: infinibatch, sacremoses\n",
            "  Building wheel for infinibatch (setup.py) ... \u001b[?25l\u001b[?25hdone\n",
            "  Created wheel for infinibatch: filename=infinibatch-0.1.0-cp36-none-any.whl size=22485 sha256=807bfc120c8fb5949d2a46c23e62880000b56c823e1d98c000adb88389d37d8c\n",
            "  Stored in directory: /tmp/pip-ephem-wheel-cache-mta239un/wheels/4f/64/4a/4f88258b170e9e6be718ca263533c4ba23ce9b8cc1ab6a5f27\n",
            "  Building wheel for sacremoses (setup.py) ... \u001b[?25l\u001b[?25hdone\n",
            "  Created wheel for sacremoses: filename=sacremoses-0.0.43-cp36-none-any.whl size=893257 sha256=2846930666391dd61b595b32bec68553d1960e8b319ee582e4495260412279fe\n",
            "  Stored in directory: /root/.cache/pip/wheels/29/3c/fd/7ce5c3f0666dab31a50123635e6fb5e19ceb42ce38d4e58f45\n",
            "Successfully built infinibatch sacremoses\n",
            "Installing collected packages: sacremoses, tokenizers, sentencepiece, transformers, infinibatch\n",
            "Successfully installed infinibatch-0.1.0 sacremoses-0.0.43 sentencepiece-0.1.91 tokenizers-0.8.1rc2 transformers-3.1.0\n"
          ],
          "name": "stdout"
        },
        {
          "output_type": "stream",
          "text": [
            "/usr/local/lib/python3.6/dist-packages/statsmodels/tools/_testing.py:19: FutureWarning: pandas.util.testing is deprecated. Use the functions in the public API at pandas.testing instead.\n",
            "  import pandas.util.testing as tm\n"
          ],
          "name": "stderr"
        }
      ]
    },
    {
      "cell_type": "code",
      "metadata": {
        "id": "aVvnCHdL9-Ib",
        "colab_type": "code",
        "colab": {}
      },
      "source": [
        "class Wiki103(Dataset):\n",
        "    def __init__(self, tokenizer: PreTrainedTokenizerFast, data_path=\"wikitext-103-raw/wiki.train.raw\", max_length: int = 512):\n",
        "        self.tokenizer = tokenizer\n",
        "        with open(data_path) as dp:\n",
        "            # We are \n",
        "            self.sentences = [sentence.strip() for sentence in dp if len(sentence.strip()) > 2]\n",
        "        self.max_length = max_length\n",
        "\n",
        "    def __len__(self):\n",
        "        return len(self.sentences)\n",
        "    \n",
        "    def __getitem__(self, i) -> Dict[str, torch.Tensor]:\n",
        "        return self.tokenizer(self.sentences[i], max_length=self.max_length, truncation=True)\n"
      ],
      "execution_count": null,
      "outputs": []
    },
    {
      "cell_type": "code",
      "metadata": {
        "id": "CP_0o6szIquq",
        "colab_type": "code",
        "colab": {
          "base_uri": "https://localhost:8080/",
          "height": 69,
          "referenced_widgets": [
            "4ac9de7d40914f9ca3ac2e32b1c83300",
            "dcdb7dc95f0846a7a4c1e2fc9c7bd7ea"
          ]
        },
        "outputId": "7c67259a-8407-413e-a6d7-2372343409af"
      },
      "source": [
        "tokenizer = AutoTokenizer.from_pretrained(\"bert-base-cased\", use_fast=True)\n",
        "wiki_dataset = Wiki103(tokenizer=tokenizer)\n",
        "sequence_lengths = []\n",
        "for example in tqdm.tqdm(iter(wiki_dataset)):\n",
        "    sequence_lengths.append(len(example[\"input_ids\"]))"
      ],
      "execution_count": null,
      "outputs": [
        {
          "output_type": "display_data",
          "data": {
            "application/vnd.jupyter.widget-view+json": {
              "model_id": "4ac9de7d40914f9ca3ac2e32b1c83300",
              "version_minor": 0,
              "version_major": 2
            },
            "text/plain": [
              "HBox(children=(FloatProgress(value=0.0, description='Downloading', max=433.0, style=ProgressStyle(description_…"
            ]
          },
          "metadata": {
            "tags": []
          }
        },
        {
          "output_type": "stream",
          "text": [
            "\n"
          ],
          "name": "stdout"
        },
        {
          "output_type": "display_data",
          "data": {
            "application/vnd.jupyter.widget-view+json": {
              "model_id": "dcdb7dc95f0846a7a4c1e2fc9c7bd7ea",
              "version_minor": 0,
              "version_major": 2
            },
            "text/plain": [
              "HBox(children=(FloatProgress(value=0.0, description='Downloading', max=213450.0, style=ProgressStyle(descripti…"
            ]
          },
          "metadata": {
            "tags": []
          }
        },
        {
          "output_type": "stream",
          "text": [
            "\n"
          ],
          "name": "stdout"
        },
        {
          "output_type": "stream",
          "text": [
            "1164464it [04:51, 4000.17it/s]\n"
          ],
          "name": "stderr"
        }
      ]
    },
    {
      "cell_type": "markdown",
      "metadata": {
        "id": "80_nu9gk0zVn",
        "colab_type": "text"
      },
      "source": [
        "By plotting the truncated `Subword sequence length vs Frequency` we see a distribution with a large variance."
      ]
    },
    {
      "cell_type": "code",
      "metadata": {
        "id": "PW16LUMYaRw8",
        "colab_type": "code",
        "colab": {
          "base_uri": "https://localhost:8080/",
          "height": 378
        },
        "outputId": "51e730f1-37d6-48a9-f7aa-c5aec4f1f414"
      },
      "source": [
        "#collapse-hide\n",
        "with plt.style.context('fivethirtyeight'):\n",
        "    plt.figure(figsize=[7,5])\n",
        "    n, bins, patches = plt.hist(x=sequence_lengths, bins=50, color='#0504aa',alpha=0.7, rwidth=0.85)\n",
        "    plt.grid(axis='y', alpha=0.75)\n",
        "    plt.xlabel('Subword Sequence Length',fontsize=15)\n",
        "    plt.ylabel('Frequency',fontsize=15)\n",
        "    plt.xticks(fontsize=15)\n",
        "    plt.yticks(fontsize=15)\n",
        "    plt.ylabel('Frequency',fontsize=15)\n",
        "    plt.title('Sequence Length Distribution',fontsize=15)\n",
        "    plt.show()"
      ],
      "execution_count": null,
      "outputs": [
        {
          "output_type": "display_data",
          "data": {
            "image/png": "[encoded data removed]",
            "text/plain": [
              "<Figure size 504x360 with 1 Axes>"
            ]
          },
          "metadata": {
            "tags": []
          }
        }
      ]
    },
    {
      "cell_type": "markdown",
      "metadata": {
        "id": "BBbaFpu75HT4",
        "colab_type": "text"
      },
      "source": [
        "### Dynamic Padding\n",
        "\n",
        "From the above graph we can intuit that if we draw random samples from the data to form a mini-batch, we would have few examples which are significantly longer than the rest. This would mean that we would add a lot of padding tokens. This holds even if we clean the very short length instances as noise. \n",
        "\n",
        "Let's implement dynamic padding and measure how much. We can use torch's `DataLoader` abstraction to do efficient batching with multi-processing. Since our tokenized outputs are of different lengths we have to implement a collate function to pad them dynamically together. We can pass the `tokenizer.pad` function implemented in huggingface's tokenizer as the collate function."
      ]
    },
    {
      "cell_type": "code",
      "metadata": {
        "id": "ZSH19aQT1PRT",
        "colab_type": "code",
        "colab": {}
      },
      "source": [
        "def collate_fn(examples: List[Dict[str, torch.Tensor]]) -> Dict[str, torch.Tensor]:\n",
        "    # Since huggingface has already implemented this, this function is just to illustrate what a collator does.\n",
        "    return tokenizer.pad(examples, return_tensors='pt')\n",
        "\n",
        "dataloader = DataLoader(dataset=wiki_dataset, batch_size=32, collate_fn=collate_fn)"
      ],
      "execution_count": null,
      "outputs": []
    },
    {
      "cell_type": "markdown",
      "metadata": {
        "id": "YB1TZVla_60H",
        "colab_type": "text"
      },
      "source": [
        "Let's assume that we can use maximum a batch size of 32 for max sequence length of 512 for our model in our training hardware without out-of-memory errors. The tokens per batch would be `512 * 32 = 16384`. We can now compute how much of it is padding tokens and what is the distribution of the batch's sequence length(which depends on the maximum element in the batch)."
      ]
    },
    {
      "cell_type": "code",
      "metadata": {
        "id": "4F69e8xy3rbf",
        "colab_type": "code",
        "colab": {
          "base_uri": "https://localhost:8080/",
          "height": 34
        },
        "outputId": "45a6f92a-97cb-4215-a960-9468fbf4d9e1"
      },
      "source": [
        "total_tokens = 0\n",
        "padding_tokens = 0\n",
        "batch_lengths = []\n",
        "for batch in tqdm.tqdm(iter(dataloader)):\n",
        "    batched_input_ids = batch[\"input_ids\"]\n",
        "    batch_lengths.append(batched_input_ids.shape[1])\n",
        "    total_tokens += batched_input_ids.numel()\n",
        "    padding_tokens += batched_input_ids[batched_input_ids == tokenizer.pad_token_id].numel()"
      ],
      "execution_count": null,
      "outputs": [
        {
          "output_type": "stream",
          "text": [
            "100%|██████████| 36390/36390 [06:35<00:00, 91.92it/s]\n"
          ],
          "name": "stderr"
        }
      ]
    },
    {
      "cell_type": "code",
      "metadata": {
        "id": "eFPOxhuA33uI",
        "colab_type": "code",
        "colab": {
          "base_uri": "https://localhost:8080/",
          "height": 104
        },
        "outputId": "aa7b938c-10be-4b6f-fdd2-34526f84a2ce"
      },
      "source": [
        "print(f\"Total Batches    : {len(iter(dataloader))}\")\n",
        "print(f\"Padding Tokens   : {padding_tokens}\")\n",
        "print(f\"Input Tokens     : {total_tokens - padding_tokens}\")\n",
        "print(f\"Total Tokens     : {total_tokens}\")\n",
        "print(f\"Padding Tokens % : {(padding_tokens*100)/total_tokens}\")"
      ],
      "execution_count": null,
      "outputs": [
        {
          "output_type": "stream",
          "text": [
            "Total Batches    : 36390\n",
            "Padding Tokens   : 244072396\n",
            "Input Tokens     : 119699332\n",
            "Total Tokens     : 363771728\n",
            "Padding Tokens % : 67.09493267712108\n"
          ],
          "name": "stdout"
        }
      ]
    },
    {
      "cell_type": "markdown",
      "metadata": {
        "id": "O07gq9C5G2SK",
        "colab_type": "text"
      },
      "source": [
        "Surprise, surprise, **67% of our net tokens are padding tokens**. This would imply that of all the computations that we do, only 33% of is done for useful work. This starkly highlights the problem with static batch lengths even when accounting for dynamic padding. \n",
        "\n",
        "Let's also plot the distribution of batch lengths."
      ]
    },
    {
      "cell_type": "code",
      "metadata": {
        "id": "wPU1RKPeHtgZ",
        "colab_type": "code",
        "colab": {
          "base_uri": "https://localhost:8080/",
          "height": 378
        },
        "outputId": "d5dbff87-8e2a-4097-d137-43d24687fea4"
      },
      "source": [
        "#collapse-hide\n",
        "with plt.style.context('fivethirtyeight'):\n",
        "    plt.figure(figsize=[7,5])\n",
        "    n, bins, patches = plt.hist(x=batch_lengths, bins=50, color='#0504aa',alpha=0.7, rwidth=0.85)\n",
        "    plt.grid(axis='y', alpha=0.75)\n",
        "    plt.xlabel('Batch Sequence Length',fontsize=15)\n",
        "    plt.ylabel('Frequency',fontsize=15)\n",
        "    plt.xticks(fontsize=15)\n",
        "    plt.yticks(fontsize=15)\n",
        "    plt.ylabel('Frequency',fontsize=15)\n",
        "    plt.title('Static Batch - Dynamic Padding Length Distribution',fontsize=15)\n",
        "    plt.show()"
      ],
      "execution_count": null,
      "outputs": [
        {
          "output_type": "display_data",
          "data": {
            "image/png": "[encoded data removed]",
            "text/plain": [
              "<Figure size 504x360 with 1 Axes>"
            ]
          },
          "metadata": {
            "tags": []
          }
        }
      ]
    },
    {
      "cell_type": "markdown",
      "metadata": {
        "id": "AiuxTRqoIHbc",
        "colab_type": "text"
      },
      "source": [
        "As batches are randomly sampled, we see a normal distribution as we can should expect by the Central Limit Theorem. The frequency in the final bin is deviant because we have a significant number of sentences which we had truncated, hence batches with them will have the maximum sequence length."
      ]
    },
    {
      "cell_type": "markdown",
      "metadata": {
        "id": "Zvwt9_NzJsF1",
        "colab_type": "text"
      },
      "source": [
        "### General approach to dynamic batching\n",
        "\n",
        "Instead of drawing samples in random, had we sorted our dataset by length, then we can form batches by packing similar length sequences together into a batch till we reach the maximum number of tokens that we can fit. The maximum number of tokens that can be packed can be derived approximately from our previous memory limit *static_batch x max_sequence_length*. This allows us to pack more instances in one batch without much padding because the sequences would be of similar lengths after sorting.\n",
        "\n",
        "We can't sort the entire dataset because machine learning training is based on the assumption that our instances are drawn independently from an identical distribution (IID). If we were to sort the entire dataset this breaks the assumption as our samples are no longer drawn independently from each other. If sentence length were a confounding factor then the model might fit on this spurious correlation.\n",
        "\n",
        "We have a trade-off here between statistical power derived from randomization of our samples and lesser error in gradient updates derived from larger batch sizes if we batch dynamically.\n",
        "\n",
        "Generally, we can have a positive trade off by sampling a window of instances and sorting withing the window and forming batches.\n",
        "\n",
        "\n",
        "The `Dataset` we implemented above is a [map-style](https://pytorch.org/docs/stable/data.html#map-style-datasets) dataset. It implements length and random access to each individual data sample with index (`__getitem__`). The sampling into batches is taken care of a sampler passed to `DataLoader`.\n",
        "\n",
        "I don't think there is a clean way to implement a map-style dataset and a collate function such that we get batches with dynamic batch sizes but same number of tokens per batch. This comes from the basic mismatch of number of dynamic batches which you can form keeps changing based on the larger window you sample.\n",
        "\n",
        "So it turns out that we have to do all the shuffling, windowing, sorting and batching inside a [iterable-style](https://pytorch.org/docs/stable/data.html#iterable-style-datasets) `IterableDataset` dataset abstraction. These features are implemented by infinibatch."
      ]
    },
    {
      "cell_type": "markdown",
      "metadata": {
        "id": "qD1btLx_X9l_",
        "colab_type": "text"
      },
      "source": [
        "## 3. Checkpointing\n",
        "In large datasets, it's typical not to wait for an entire epoch to checkpoint your model to recover from failures. So to be able to recover and continue training in a deterministic manner, such that it converges to same state if the failure hadn't occured, we have to checkpoint the random state that controls the order in which our samples are generated."
      ]
    },
    {
      "cell_type": "markdown",
      "metadata": {
        "id": "CwHjWUOwJsYm",
        "colab_type": "text"
      },
      "source": [
        "\n",
        "# Infinibatch to the rescue\n",
        "\n",
        ">Infinibatch is a library of checkpointable iterators for randomized data loading of massive data sets in deep neural network training.\n",
        "\n",
        "It is aimed at simplify the processing of large datasets. It is a collection of pure python classes that implement `__iter__` interface. They can be composed inside one another easily and the final composed iterator can be checkpointed as a single entity.You can checkout it's basic tutorial [here](https://github.com/microsoft/infinibatch). We will use it to address the listed challenges piece by piece and then finally make it work inside `IterableDataset` and `DataLoader` abstractions. We will also see the tricks needed to make it work distributed data parallel training."
      ]
    },
    {
      "cell_type": "markdown",
      "metadata": {
        "id": "a3e0WaZ5oDM9",
        "colab_type": "text"
      },
      "source": [
        "## 1. Loading and shuffling large datasets\n",
        "\n",
        "Following the infinibatch tutorial, we divide our dataset into multiple gzip chunks of 10000 sentences each."
      ]
    },
    {
      "cell_type": "code",
      "metadata": {
        "id": "9PSod5EZnsEj",
        "colab_type": "code",
        "colab": {}
      },
      "source": [
        "!mkdir -p wikitext-103-chunks\n",
        "!split  -a 4 --lines 10000  --numeric-suffixes --filter 'gzip > wikitext-103-chunks/$FILE.txt.gz' wikitext-103-raw/wiki.train.raw  train."
      ],
      "execution_count": null,
      "outputs": []
    },
    {
      "cell_type": "markdown",
      "metadata": {
        "id": "EF2X91ybxOjI",
        "colab_type": "text"
      },
      "source": [
        "We can now create an iterator using infinibatch with a function that can deserialize a shard. Infinibatch takes care of loading multiple in a shuffled order. We can control the amount of deserialized individual examples from the shards be buffered using `buffer_size` parameter. The library returns a python iterable. We can call `next(iterable)` or iterate with a `for` to get the examples.\n",
        "\n",
        "Note: Passing `train=True` creates an infinite iterator that cycles after a full run on the dataset. The `chunked_dataset_iterator` method returns a composition of iterators, you can refer the source code [here](https://github.com/microsoft/infinibatch/blob/master/infinibatch/iterators.py)"
      ]
    },
    {
      "cell_type": "code",
      "metadata": {
        "id": "vJ40GzEqfv19",
        "colab_type": "code",
        "colab": {
          "base_uri": "https://localhost:8080/",
          "height": 34
        },
        "outputId": "f290ad3c-c323-4d36-857d-8569c5c2afb9"
      },
      "source": [
        "import gzip, glob\n",
        "from functools import partial\n",
        "\n",
        "from infinibatch import datasets, iterators\n",
        "\n",
        "def read_chunk(path):\n",
        "    with open(path, \"rb\") as fp:\n",
        "        lines = gzip.decompress(fp.read()).decode(encoding='utf-8').splitlines()\n",
        "        lines = [sentence.strip() for sentence in lines if len(sentence.strip()) > 2]\n",
        "    return iter(lines)\n",
        "\n",
        "sentence_it = datasets.chunked_dataset_iterator(\n",
        "    chunk_refs = glob.glob('wikitext-103-chunks/train.*.txt.gz'),\n",
        "    read_chunk_fn = read_chunk,\n",
        "    buffer_size = 100000, seed = 1337, train=True, shuffle=True)\n",
        "\n",
        "print(next(sentence_it))"
      ],
      "execution_count": null,
      "outputs": [
        {
          "output_type": "stream",
          "text": [
            "= = = Oxides and hydroxides = = =\n"
          ],
          "name": "stdout"
        }
      ]
    },
    {
      "cell_type": "markdown",
      "metadata": {
        "id": "Hzz_u_qoy7Z7",
        "colab_type": "text"
      },
      "source": [
        "\n",
        "### Tensorize our dataset with a map iterator\n",
        "We can now compose our tokenizer upon our sentence iterator. Infinibatch has two ways of doing this,\n",
        "1. `MapIterator`\n",
        "2. `ParallelMapIterator`\n",
        "\n",
        "If you use pytorch and need multiprocessing to do costly transformations over your data on the fly, use the `ParallelMap` and set the `num_processes` with what you would have with `num_workers`. And set `num_workers=0` in your dataloader.\n"
      ]
    },
    {
      "cell_type": "code",
      "metadata": {
        "id": "Hs6nIqDN1Cx7",
        "colab_type": "code",
        "colab": {
          "base_uri": "https://localhost:8080/",
          "height": 54
        },
        "outputId": "ac907722-f1c9-4d6d-a3d3-9fbfe08c1e27"
      },
      "source": [
        "tokenize_fn = partial(tokenizer, max_length=512, truncation=True)\n",
        "\n",
        "features_it = iterators.ParallelMapIterator(\n",
        "    source_iterator=sentence_it,\n",
        "    num_processes=4,\n",
        "    num_items_per_process=1000,\n",
        "    transform=tokenize_fn\n",
        ")\n",
        "next(features_it)"
      ],
      "execution_count": null,
      "outputs": [
        {
          "output_type": "execute_result",
          "data": {
            "text/plain": [
              "{'input_ids': [101, 134, 134, 134, 152, 8745, 4704, 1105, 177, 19694, 8745, 4704, 134, 134, 134, 102], 'token_type_ids': [0, 0, 0, 0, 0, 0, 0, 0, 0, 0, 0, 0, 0, 0, 0, 0], 'attention_mask': [1, 1, 1, 1, 1, 1, 1, 1, 1, 1, 1, 1, 1, 1, 1, 1]}"
            ]
          },
          "metadata": {
            "tags": []
          },
          "execution_count": 12
        }
      ]
    },
    {
      "cell_type": "markdown",
      "metadata": {
        "id": "HRuX1s0w1Xv5",
        "colab_type": "text"
      },
      "source": [
        "## 2. Dynamic Batching\n",
        "\n",
        "Now comes the magic of dynamic batching with `BucketedReadaheadBatchIterator`. Let's fix the maximum tokens per batch to  `32 * 512 = 16384`. This iterator allows you to compute dynamic batch size by iteratively applying a user given function over the current longest example (with length computed by user function) in a sorted `read_ahead` window. This window is sorted and batches are formed by using the user provided `batch_size` function iteratively. \n",
        "\n",
        "### Example\n",
        "\n",
        "Say we want 50 tokens per batch. If we set a read ahead window of 6. Assume we fetch six items [a, b, c, d, e, f] in the first read ahead window.\n",
        "\n",
        "| Sequence id | Length |\n",
        "|-------------| -------|\n",
        "|a|50|\n",
        "|b|30|\n",
        "|c|20|\n",
        "|d|20|\n",
        "|e|30|\n",
        "|f|20|\n",
        "\n",
        "\n",
        "First we sort this window with lengths in decreasing order. The sort order is stable. This preserves the shuffling of equal sized elements from previous iterator. So for our example it would be [a, b, e, c, d, f]\n",
        "\n",
        "Now we can Compute the dynamic batch sizes by applying the function `batch_size` iteratively till the window is exhausted. Assume our function is `lambda longest_instance: 60 // len(longest_instance)`. Then applying it once we get first longest item `a`, current batch size will be `60 //50 = 1`. The next longest item remaining can be used to calculate the size of the next batch and so on. So we will end up with [a], [b, e], [c, d, f]. Each of them will have 60 tokens.\n",
        "\n",
        "You can take a look at the code that does this computation [here](https://github.com/microsoft/infinibatch/blob/master/infinibatch/iterators.py#L1080).\n"
      ]
    },
    {
      "cell_type": "code",
      "metadata": {
        "id": "mPH1lfin1yvK",
        "colab_type": "code",
        "colab": {
          "base_uri": "https://localhost:8080/",
          "height": 89
        },
        "outputId": "0b090b13-1b4b-4c3f-c127-3c04b23b6fcc"
      },
      "source": [
        "tokens_per_batch = 32 * 512\n",
        "batches_it = iterators.BucketedReadaheadBatchIterator(\n",
        "    source_iterator=features_it,\n",
        "    # read_ahead is the number of items to be read from previous iterator,\n",
        "    # these are sorted and over which dynamic batches are formed.\n",
        "    read_ahead=10000, \n",
        "    # key determines the length used to sort and choose the longest remaining record.\n",
        "    key=lambda example: len(example['input_ids']), \n",
        "     # Determines the dynamic batch size\n",
        "    batch_size=lambda longest_example: tokens_per_batch // len(longest_example['input_ids']),\n",
        "    seed=0 \n",
        ")\n",
        "dynamic_batch_wo_padding = next(batches_it)\n",
        "print(f\"Dynamic batch size: {len(dynamic_batch_wo_padding)}\")\n",
        "dynamic_batch_wo_padding = next(batches_it)\n",
        "print(f\"Dynamic batch size: {len(dynamic_batch_wo_padding)}\")\n",
        "print(dynamic_batch_wo_padding[:2])"
      ],
      "execution_count": null,
      "outputs": [
        {
          "output_type": "stream",
          "text": [
            "Dynamic batch size: 133\n",
            "Dynamic batch size: 99\n",
            "[{'input_ids': [101, 1109, 10437, 10745, 1159, 1108, 1103, 1211, 10543, 7631, 1121, 19475, 119, 23364, 1276, 1103, 10745, 1551, 107, 1119, 27944, 107, 1105, 6315, 1115, 1103, 1591, 1329, 1160, 10437, 9307, 1939, 1104, 1141, 117, 1112, 4836, 10437, 24295, 2624, 1108, 2320, 1107, 1103, 1342, 119, 5512, 5912, 1116, 9279, 1276, 1103, 24295, 2624, 1104, 107, 1544, 170, 5955, 107, 22593, 27643, 27725, 170, 107, 12178, 107, 1113, 1103, 20694, 23676, 119, 26835, 3798, 1276, 1103, 107, 3321, 107, 2971, 1104, 10437, 24295, 2624, 1106, 1129, 1103, 1342, 112, 188, 2026, 3282, 4197, 117, 1112, 1218, 1112, 1103, 1263, 10745, 1551, 1115, 4977, 1122, 119, 8746, 2202, 1115, 21105, 1158, 1551, 1127, 107, 17562, 3345, 107, 1496, 1106, 1103, 12177, 10437, 2469, 1158, 119, 2061, 2202, 1115, 1103, 1342, 1125, 170, 10437, 2469, 9285, 107, 1177, 2213, 107, 1115, 1122, 1108, 1593, 4763, 1106, 2469, 22493, 1219, 11716, 117, 1112, 1103, 16408, 1733, 1766, 2230, 1108, 1579, 170, 1248, 1481, 4315, 10322, 5172, 119, 102], 'token_type_ids': [0, 0, 0, 0, 0, 0, 0, 0, 0, 0, 0, 0, 0, 0, 0, 0, 0, 0, 0, 0, 0, 0, 0, 0, 0, 0, 0, 0, 0, 0, 0, 0, 0, 0, 0, 0, 0, 0, 0, 0, 0, 0, 0, 0, 0, 0, 0, 0, 0, 0, 0, 0, 0, 0, 0, 0, 0, 0, 0, 0, 0, 0, 0, 0, 0, 0, 0, 0, 0, 0, 0, 0, 0, 0, 0, 0, 0, 0, 0, 0, 0, 0, 0, 0, 0, 0, 0, 0, 0, 0, 0, 0, 0, 0, 0, 0, 0, 0, 0, 0, 0, 0, 0, 0, 0, 0, 0, 0, 0, 0, 0, 0, 0, 0, 0, 0, 0, 0, 0, 0, 0, 0, 0, 0, 0, 0, 0, 0, 0, 0, 0, 0, 0, 0, 0, 0, 0, 0, 0, 0, 0, 0, 0, 0, 0, 0, 0, 0, 0, 0, 0, 0, 0, 0, 0, 0, 0, 0, 0, 0, 0, 0, 0, 0, 0], 'attention_mask': [1, 1, 1, 1, 1, 1, 1, 1, 1, 1, 1, 1, 1, 1, 1, 1, 1, 1, 1, 1, 1, 1, 1, 1, 1, 1, 1, 1, 1, 1, 1, 1, 1, 1, 1, 1, 1, 1, 1, 1, 1, 1, 1, 1, 1, 1, 1, 1, 1, 1, 1, 1, 1, 1, 1, 1, 1, 1, 1, 1, 1, 1, 1, 1, 1, 1, 1, 1, 1, 1, 1, 1, 1, 1, 1, 1, 1, 1, 1, 1, 1, 1, 1, 1, 1, 1, 1, 1, 1, 1, 1, 1, 1, 1, 1, 1, 1, 1, 1, 1, 1, 1, 1, 1, 1, 1, 1, 1, 1, 1, 1, 1, 1, 1, 1, 1, 1, 1, 1, 1, 1, 1, 1, 1, 1, 1, 1, 1, 1, 1, 1, 1, 1, 1, 1, 1, 1, 1, 1, 1, 1, 1, 1, 1, 1, 1, 1, 1, 1, 1, 1, 1, 1, 1, 1, 1, 1, 1, 1, 1, 1, 1, 1, 1, 1]}, {'input_ids': [101, 2651, 4385, 1127, 1211, 1510, 1276, 8910, 15364, 1158, 12354, 2928, 1105, 1103, 15553, 1104, 5400, 15246, 117, 1105, 11561, 1317, 3050, 131, 172, 16717, 3848, 6126, 117, 16358, 2881, 5018, 117, 23639, 11239, 5326, 6126, 117, 1105, 7812, 21212, 119, 140, 16717, 3848, 2116, 1110, 1103, 7764, 1271, 1111, 16307, 172, 16717, 3447, 1105, 1143, 17670, 4199, 131, 18249, 1105, 4600, 5511, 1113, 1499, 1104, 170, 2095, 119, 9800, 2881, 5018, 1127, 4122, 9417, 1116, 1115, 11479, 2894, 1103, 2095, 117, 3525, 15024, 1106, 5211, 1120, 117, 1137, 3968, 4546, 1113, 117, 19450, 1120, 1103, 2259, 1104, 1103, 2095, 1443, 1515, 1106, 8290, 1679, 24755, 1361, 1193, 1166, 1103, 172, 16717, 3848, 6126, 117, 8267, 15952, 2310, 1106, 1231, 6163, 26264, 1183, 1783, 119, 6603, 11239, 5326, 6126, 1127, 2576, 25344, 1113, 1499, 1104, 170, 2095, 1114, 18199, 1115, 2148, 4546, 1106, 1129, 2434, 1113, 1126, 3437, 1120, 1103, 2259, 1104, 1103, 2095, 1107, 170, 1861, 4633, 1106, 16358, 2881, 5018, 119, 102], 'token_type_ids': [0, 0, 0, 0, 0, 0, 0, 0, 0, 0, 0, 0, 0, 0, 0, 0, 0, 0, 0, 0, 0, 0, 0, 0, 0, 0, 0, 0, 0, 0, 0, 0, 0, 0, 0, 0, 0, 0, 0, 0, 0, 0, 0, 0, 0, 0, 0, 0, 0, 0, 0, 0, 0, 0, 0, 0, 0, 0, 0, 0, 0, 0, 0, 0, 0, 0, 0, 0, 0, 0, 0, 0, 0, 0, 0, 0, 0, 0, 0, 0, 0, 0, 0, 0, 0, 0, 0, 0, 0, 0, 0, 0, 0, 0, 0, 0, 0, 0, 0, 0, 0, 0, 0, 0, 0, 0, 0, 0, 0, 0, 0, 0, 0, 0, 0, 0, 0, 0, 0, 0, 0, 0, 0, 0, 0, 0, 0, 0, 0, 0, 0, 0, 0, 0, 0, 0, 0, 0, 0, 0, 0, 0, 0, 0, 0, 0, 0, 0, 0, 0, 0, 0, 0, 0, 0, 0, 0, 0, 0, 0, 0, 0, 0, 0, 0], 'attention_mask': [1, 1, 1, 1, 1, 1, 1, 1, 1, 1, 1, 1, 1, 1, 1, 1, 1, 1, 1, 1, 1, 1, 1, 1, 1, 1, 1, 1, 1, 1, 1, 1, 1, 1, 1, 1, 1, 1, 1, 1, 1, 1, 1, 1, 1, 1, 1, 1, 1, 1, 1, 1, 1, 1, 1, 1, 1, 1, 1, 1, 1, 1, 1, 1, 1, 1, 1, 1, 1, 1, 1, 1, 1, 1, 1, 1, 1, 1, 1, 1, 1, 1, 1, 1, 1, 1, 1, 1, 1, 1, 1, 1, 1, 1, 1, 1, 1, 1, 1, 1, 1, 1, 1, 1, 1, 1, 1, 1, 1, 1, 1, 1, 1, 1, 1, 1, 1, 1, 1, 1, 1, 1, 1, 1, 1, 1, 1, 1, 1, 1, 1, 1, 1, 1, 1, 1, 1, 1, 1, 1, 1, 1, 1, 1, 1, 1, 1, 1, 1, 1, 1, 1, 1, 1, 1, 1, 1, 1, 1, 1, 1, 1, 1, 1, 1]}]\n"
          ],
          "name": "stdout"
        }
      ]
    },
    {
      "cell_type": "markdown",
      "metadata": {
        "id": "1FQWND6F3UJz",
        "colab_type": "text"
      },
      "source": [
        "Now we can collate our examples and see how much  this scheme has saved us. Since a training iterator is infinite, we will recreate our iterators with a non-infinite iterator."
      ]
    },
    {
      "cell_type": "code",
      "metadata": {
        "id": "MB-iolio3BhU",
        "colab_type": "code",
        "colab": {}
      },
      "source": [
        "sentence_it_finite = datasets.chunked_dataset_iterator(\n",
        "    chunk_refs = glob.glob('wikitext-103-chunks/train.*.txt.gz'),\n",
        "    read_chunk_fn = read_chunk,\n",
        "    buffer_size = 100000, \n",
        "    seed = 1337, \n",
        "    train=False, \n",
        "    shuffle=False\n",
        ")\n",
        "features_it_finite = iterators.ParallelMapIterator(\n",
        "    source_iterator=sentence_it_finite,\n",
        "    num_processes=4,\n",
        "    num_items_per_process=1000,\n",
        "    transform=tokenize_fn\n",
        ")\n",
        "batches_it_finite = iterators.BucketedReadaheadBatchIterator(\n",
        "    source_iterator=features_it_finite,\n",
        "    read_ahead=10000, # Determines the window for the bucket which\n",
        "    # will be sorted and  converted to batches.\n",
        "    key=lambda example: len(example['input_ids']), # Determines the length used\n",
        "    # to sort and choose the longest remaining record.\n",
        "    batch_size=lambda longest: tokens_per_batch // len(longest['input_ids']),\n",
        "    # Determines the dynamic batch size\n",
        "    seed=0 \n",
        ")\n",
        "collate_fn = partial(tokenizer.pad, return_tensors='pt')\n",
        "tensors_it_finite = iterators.MapIterator(\n",
        "    batches_it_finite,\n",
        "    transform=collate_fn\n",
        ")"
      ],
      "execution_count": null,
      "outputs": []
    },
    {
      "cell_type": "code",
      "metadata": {
        "id": "ak_LSuC14cZT",
        "colab_type": "code",
        "colab": {
          "base_uri": "https://localhost:8080/",
          "height": 34
        },
        "outputId": "b9def4dd-6e8c-4fdb-934a-5afb7bfaa30a"
      },
      "source": [
        "total_batches_dynamic = 0 \n",
        "total_tokens_dynamic = 0\n",
        "padding_tokens_dynamic = 0\n",
        "batch_lengths_dynamic = []\n",
        "for batch in tqdm.tqdm(tensors_it_finite):\n",
        "    total_batches_dynamic += 1\n",
        "    batched_input_ids = batch[\"input_ids\"]\n",
        "    batch_lengths_dynamic.append(batched_input_ids.shape[1])\n",
        "    total_tokens_dynamic += batched_input_ids.numel()\n",
        "    padding_tokens_dynamic += batched_input_ids[batched_input_ids == tokenizer.pad_token_id].numel()"
      ],
      "execution_count": null,
      "outputs": [
        {
          "output_type": "stream",
          "text": [
            "7645it [08:45, 14.54it/s]\n"
          ],
          "name": "stderr"
        }
      ]
    },
    {
      "cell_type": "code",
      "metadata": {
        "id": "9cHIMce545jS",
        "colab_type": "code",
        "colab": {
          "base_uri": "https://localhost:8080/",
          "height": 104
        },
        "outputId": "377cb956-3593-460e-a29a-855319afb9a3"
      },
      "source": [
        "print(f\"Total Batches    : {total_batches_dynamic}\") # Seeing the tqdm stats.\n",
        "print(f\"Padding Tokens   : {padding_tokens_dynamic}\")\n",
        "print(f\"Input Tokens     : {total_tokens_dynamic - padding_tokens_dynamic}\")\n",
        "print(f\"Total Tokens     : {total_tokens_dynamic}\")\n",
        "print(f\"Padding Tokens % : {(padding_tokens_dynamic*100)/total_tokens_dynamic}\")"
      ],
      "execution_count": null,
      "outputs": [
        {
          "output_type": "stream",
          "text": [
            "Total Batches    : 7645\n",
            "Padding Tokens   : 3848626\n",
            "Input Tokens     : 119699332\n",
            "Total Tokens     : 123547958\n",
            "Padding Tokens % : 3.1150866937031854\n"
          ],
          "name": "stdout"
        }
      ]
    },
    {
      "cell_type": "markdown",
      "metadata": {
        "id": "iTWQl-ZlEbhQ",
        "colab_type": "text"
      },
      "source": [
        "We have **reduced** the % of **padding tokens** per epoch from **67% to just around 3%**.The total batches needed to process it in the same max tokens per batch limitation hence got reduced nearly five times from 36390 to 7642.\n",
        "\n",
        "The processing time is just one minute extra. I guess that might be due to IO, but you could try benchmarking that with more rigour.\n",
        "\n",
        "Now, plotting the length distribution for dynamic batches."
      ]
    },
    {
      "cell_type": "code",
      "metadata": {
        "id": "WlwAbRa87S-K",
        "colab_type": "code",
        "colab": {
          "base_uri": "https://localhost:8080/",
          "height": 378
        },
        "outputId": "0248f8bd-4d62-4b7e-adab-3c2150e8df1c"
      },
      "source": [
        "#collapse-hide\n",
        "with plt.style.context('fivethirtyeight'):\n",
        "    plt.figure(figsize=[7,5])\n",
        "    n, bins, patches = plt.hist(x=batch_lengths_dynamic, bins=50, color='#0504aa',alpha=0.7, rwidth=0.85)\n",
        "    plt.grid(axis='y', alpha=0.75)\n",
        "    plt.xlabel('Batch Sequence Length',fontsize=15)\n",
        "    plt.ylabel('Frequency',fontsize=15)\n",
        "    plt.xticks(fontsize=15)\n",
        "    plt.yticks(fontsize=15)\n",
        "    plt.ylabel('Frequency',fontsize=15)\n",
        "    plt.title('Dynamic Batch - Dynamic Padding Length Distribution',fontsize=15)\n",
        "    plt.show()"
      ],
      "execution_count": null,
      "outputs": [
        {
          "output_type": "display_data",
          "data": {
            "image/png": "[encoded data removed]",
            "text/plain": [
              "<Figure size 504x360 with 1 Axes>"
            ]
          },
          "metadata": {
            "tags": []
          }
        }
      ]
    },
    {
      "cell_type": "markdown",
      "metadata": {
        "id": "j3xegHBIHCod",
        "colab_type": "text"
      },
      "source": [
        "We now see that the expected per batch sequence length has reduced from 300 to 200.\n"
      ]
    },
    {
      "cell_type": "markdown",
      "metadata": {
        "id": "8fCSVucLH_lD",
        "colab_type": "text"
      },
      "source": [
        "## 3. Checkpointing\n",
        "\n",
        "One cool feature of `infinibatch` is that you can checkpoint a particular state in which the composed iterators is at and restore (rewind?) it back to that state. This is very cool considering it works recursively on the composed iterators and even on infinite iterator. Let's recreate our iterators and check this out. \n"
      ]
    },
    {
      "cell_type": "code",
      "metadata": {
        "id": "SokCx_JhIp8T",
        "colab_type": "code",
        "colab": {}
      },
      "source": [
        "#collapse-hide\n",
        "sentence_it = datasets.chunked_dataset_iterator(\n",
        "    chunk_refs = glob.glob('wikitext-103-chunks/train.*.txt.gz'),\n",
        "    read_chunk_fn = read_chunk,\n",
        "    buffer_size = 100000, \n",
        "    seed = 1337, \n",
        "    train=False, \n",
        "    shuffle=False\n",
        ")\n",
        "features_it = iterators.ParallelMapIterator(\n",
        "    source_iterator=sentence_it,\n",
        "    num_processes=4,\n",
        "    num_items_per_process=1000,\n",
        "    transform=tokenize_fn\n",
        ")\n",
        "batches_it = iterators.BucketedReadaheadBatchIterator(\n",
        "    source_iterator=features_it,\n",
        "    read_ahead=10000, # Determines the window for the bucket which\n",
        "    # will be sorted and  converted to batches.\n",
        "    key=lambda example: len(example['input_ids']), # Determines the length used\n",
        "    # to sort and choose the longest remaining record.\n",
        "    batch_size=lambda longest: tokens_per_batch // len(longest['input_ids']),\n",
        "    # Determines the dynamic batch size\n",
        "    seed=0 \n",
        ")\n",
        "collate_fn = partial(tokenizer.pad, return_tensors='pt')\n",
        "tensors_it = iterators.MapIterator(\n",
        "    batches_it,\n",
        "    transform=collate_fn\n",
        ")"
      ],
      "execution_count": null,
      "outputs": []
    },
    {
      "cell_type": "code",
      "metadata": {
        "id": "XmpdMVSTMZmR",
        "colab_type": "code",
        "colab": {
          "base_uri": "https://localhost:8080/",
          "height": 106
        },
        "outputId": "89739ff2-f4fe-41d1-d957-b09bc42b1438"
      },
      "source": [
        "initial_state = tensors_it.getstate() \n",
        "print(\"Initial State of composed iterators\", initial_state)\n",
        "# Draw 5 batches\n",
        "batches = [next(tensors_it) for _ in range(5)]\n",
        "print(f\"Current State after sampling 5 batches: {tensors_it.getstate()}\")\n",
        "\n",
        "# Reset the Iterator\n",
        "tensors_it.setstate(initial_state)\n",
        "# Redraw 5 batches\n",
        "redraw_batches = [next(tensors_it) for _ in range(5)]\n",
        "print(f\"State after resampling 5 batches: {tensors_it.getstate()}\")\n",
        "\n",
        "\n",
        "# Check equal\n",
        "all_equal = True\n",
        "for b1, b2 in zip(batches, redraw_batches):\n",
        "    for k in b1:\n",
        "        if torch.all(b1[k].eq(b2[k])):\n",
        "            continue\n",
        "        all_equal = False\n",
        "        break\n",
        "    if not all_equal:\n",
        "        break\n",
        "print(f\"All items drawn after resetting are equal: {all_equal}\")"
      ],
      "execution_count": null,
      "outputs": [
        {
          "output_type": "stream",
          "text": [
            "Initial State of composed iterators {'source_state': None, 'random_state': None, 'num_served': 0}\n",
            "Current State after sampling 5 batches: {'source_state': {'source_state': None, 'flattened_items_yielded': 0}, 'random_state': (3, (2147483648, 766982754, 497961170, 3952298588, 2331775348, 1811986599, 3100132149, 3188119873, 3937547222, 215718963, 3315684082, 2978012849, 2428261856, 1298227695, 1704729580, 54668373, 3285201915, 3285178464, 1552935063, 988471319, 3135387943, 1691402966, 2757551880, 416056905, 907387413, 1072924981, 33903495, 2168419592, 2429050353, 831159753, 430343641, 3315943586, 1761671042, 864453023, 334804929, 1627478028, 2596811275, 3468733638, 3994375553, 1457139722, 3139722021, 1334790738, 2656639915, 3535811098, 1464315470, 2397423927, 885719490, 1140895889, 3284299483, 2854516462, 2734973817, 147484763, 792049954, 114360641, 3345458839, 1159898878, 1410498733, 2242989638, 453922141, 1344019764, 413870456, 3089405849, 1494382840, 470157779, 4266372830, 2831181573, 1361928602, 1589253513, 1381373062, 753045124, 987032420, 781978839, 2953638767, 3258570111, 3006718191, 1675218601, 1854232715, 3655829819, 1731242722, 2192104666, 1736665161, 740150002, 1195833394, 1610203160, 159492766, 4041488705, 3128952632, 2867295744, 3272632449, 886824304, 1791482600, 221114776, 3867175393, 4020804062, 1077871826, 1298953503, 996366221, 4149754679, 2483052703, 2615558283, 274318093, 1716359450, 4099129961, 1026774175, 288240973, 1459347562, 2365566296, 3690105224, 3065780221, 2050634722, 2652606621, 3185241207, 3026457375, 3456165734, 1880121515, 3398461093, 1795638629, 2379692076, 608668379, 1261955525, 84456522, 1913485156, 106878280, 757183891, 2913957588, 160418091, 2025664758, 141497907, 1657818026, 3053760160, 672193054, 4157546743, 223046484, 1623470498, 1201972930, 675008814, 684162366, 1738776330, 3025656654, 159760723, 1908867305, 3933381342, 2545706671, 467196949, 1427819885, 842150314, 4032903454, 2140851898, 3269883445, 975813755, 4177392955, 1556690684, 2535611513, 462962732, 67591358, 1729610528, 2025206740, 3153739740, 3255032049, 4186226368, 1070144624, 3107867195, 1621006038, 63742485, 835629717, 3189842019, 3950227584, 3184714559, 841836938, 1685394870, 657939920, 766156242, 1412314179, 1048281639, 4037161120, 2044490307, 1923947830, 3900790422, 907554295, 276417304, 860658646, 3574201134, 3508771399, 2110232300, 1636296241, 1405006077, 1093408401, 3243057343, 1519791182, 1994660136, 3829840937, 2644974199, 957955566, 3487641161, 1646922510, 1907939989, 3836029453, 3429168778, 201307778, 72550089, 2464394982, 1695794191, 3344785682, 996786130, 3589457196, 1241754792, 1291082245, 4224603667, 1194379475, 2693491244, 881186965, 2705535111, 445306946, 440274268, 1980827733, 2482488861, 3205215943, 2119332222, 2928713046, 1418736938, 652581136, 2474070665, 2208621536, 4171251876, 2303664214, 443762656, 2981912989, 2199228311, 2652261633, 3166738494, 3443009210, 3498764432, 424010848, 4065487566, 2262993542, 1756076712, 1477098233, 2742171915, 306185806, 3610666541, 923091830, 1034267993, 2336668648, 1880719718, 676878038, 3788797208, 3763351494, 3985428106, 1101865631, 1130501258, 3672967388, 3432003530, 4124438011, 1660392285, 4025484827, 2108074566, 3815409682, 42955331, 3248965569, 1643835718, 1246665668, 1071162194, 3814069229, 115491158, 985096811, 3311029186, 2990827378, 3101633320, 1648574497, 1470117052, 174145027, 2019894819, 2035501481, 459104123, 3507464599, 2093352659, 3369174406, 618767835, 4009895756, 935587447, 3956987426, 33753995, 307782427, 2473424805, 1440371818, 2382619594, 2138695812, 3164510238, 1318650933, 2910086616, 3886677510, 566832801, 3718063320, 1559818704, 183047272, 1142362855, 26306548, 645536402, 3875596208, 2272778168, 3512733409, 1897046338, 38248886, 2570759766, 1806313150, 860304898, 2433450338, 4124013408, 1216634590, 1275388896, 1169566669, 652504502, 761221427, 1448403764, 3129135949, 2513214949, 1269533687, 2413509541, 1226750363, 2450740925, 4094137910, 945759293, 3636927736, 3178020081, 2509964157, 3878869300, 1848504895, 2018369720, 1579755740, 1023627943, 924838836, 2653160914, 1812804174, 1521323076, 4012390528, 1338763317, 2608655937, 16022784, 1672945066, 2177189646, 2944458483, 2213810972, 1369873847, 1224017670, 130901785, 3595066712, 2259115284, 3316038259, 455873927, 2917250465, 3599550610, 1502173758, 684943436, 3079863840, 3144992244, 942855823, 1771140188, 2118780653, 3411494225, 2711180217, 4239611184, 1371891067, 3398566397, 3105518599, 1310665701, 3345178451, 2959821156, 242241789, 2148966880, 3192740583, 404401893, 3605380577, 1446464038, 3920522056, 2577523013, 1079274576, 286634372, 1752710796, 2351075979, 981312309, 3410516352, 3468455736, 1938779182, 1592494371, 1533303080, 88045436, 438252489, 1220512168, 3487004938, 3724852871, 1073434882, 3728218947, 2977555283, 4105408406, 3553772656, 1462006821, 3917158017, 119003006, 3470530198, 3439192457, 2829375771, 3555715155, 32324691, 588735808, 1459221702, 803072782, 2699519868, 1530797005, 79738580, 671990400, 4289511388, 3207115447, 2584684068, 832698998, 760958416, 1217440464, 2517898131, 2418819938, 3629956222, 3445024962, 206619378, 365007395, 522114139, 1707954431, 540423623, 1786750801, 369253262, 4239016754, 147889201, 1637777773, 236798285, 2806120188, 586972608, 2201782716, 1323327827, 819485723, 406078680, 3407345698, 1537169369, 1821691865, 527271655, 3751827102, 1465426495, 3321682429, 2179672664, 401355478, 1068871880, 24609462, 1403522408, 2311580015, 1532058170, 3877815340, 1768430711, 1619755157, 2832904331, 475102697, 354987331, 3295386430, 2816873951, 1039415736, 363972779, 1499307670, 2895506264, 3746345349, 2678027234, 3251899088, 955392878, 2329157295, 1343358773, 309573887, 2410178377, 2843173466, 361132917, 1755816798, 1319204283, 609284796, 1998842567, 1892325921, 223190385, 1483015769, 2876023365, 3876009312, 3199738344, 491524099, 160383137, 1219178873, 3870310498, 1114580266, 4279604166, 855339774, 1983818547, 2297848784, 4118592947, 4084409863, 2225095054, 4215601993, 946447434, 4205503762, 146088676, 778046685, 1876936928, 3157333726, 2173097090, 3215738813, 4135448234, 1219619643, 1936128689, 2897130162, 3336043946, 3779039524, 4200886837, 1359380925, 3402593091, 3140713935, 50855190, 3122065768, 1501584468, 2512255124, 687125154, 2666013386, 837819715, 3057258172, 3653455791, 2868624990, 322131992, 42534870, 4036564806, 798099710, 3533853670, 190914037, 3726947981, 2601169403, 602059656, 1365668439, 1918780004, 394790500, 277566007, 3891847777, 3365421094, 3139612253, 1380519090, 1183088424, 4203794803, 3049949521, 4214159484, 3446206962, 1875544460, 3207220027, 3288287026, 913535288, 178159620, 1410694581, 4190575040, 880731713, 1427805121, 404869072, 3413191414, 2865934056, 2899472677, 4239222733, 688404529, 3923323887, 933651074, 1199453686, 642723732, 2850614853, 3104368451, 3054041024, 3129913503, 2805843726, 1829781129, 3479062313, 650272704, 4224852052, 4085038685, 2616580676, 1793860711, 585126334, 2995262791, 520446536, 3855655015, 1571815563, 2240778227, 2051010344, 1694977983, 788402852, 1988089041, 2035558649, 1800063056, 1234412692, 2490862867, 417320514, 2415019489, 3374117797, 136034611, 898704236, 1247106941, 3923519397, 3563607190, 2454738671, 3522360389, 2672645476, 146828884, 3985140042, 4233949333, 1184742586, 860278824, 2815489967, 983483427, 3190081845, 3288865305, 3575181235, 1292151129, 4007823805, 4049420597, 3499391972, 1611182906, 1721268432, 2944249577, 2487212557, 789127738, 4027610014, 1057334138, 2902720905, 624), None), 'num_served': 5}\n",
            "State after resampling 5 batches: {'source_state': {'source_state': None, 'flattened_items_yielded': 0}, 'random_state': (3, (2147483648, 766982754, 497961170, 3952298588, 2331775348, 1811986599, 3100132149, 3188119873, 3937547222, 215718963, 3315684082, 2978012849, 2428261856, 1298227695, 1704729580, 54668373, 3285201915, 3285178464, 1552935063, 988471319, 3135387943, 1691402966, 2757551880, 416056905, 907387413, 1072924981, 33903495, 2168419592, 2429050353, 831159753, 430343641, 3315943586, 1761671042, 864453023, 334804929, 1627478028, 2596811275, 3468733638, 3994375553, 1457139722, 3139722021, 1334790738, 2656639915, 3535811098, 1464315470, 2397423927, 885719490, 1140895889, 3284299483, 2854516462, 2734973817, 147484763, 792049954, 114360641, 3345458839, 1159898878, 1410498733, 2242989638, 453922141, 1344019764, 413870456, 3089405849, 1494382840, 470157779, 4266372830, 2831181573, 1361928602, 1589253513, 1381373062, 753045124, 987032420, 781978839, 2953638767, 3258570111, 3006718191, 1675218601, 1854232715, 3655829819, 1731242722, 2192104666, 1736665161, 740150002, 1195833394, 1610203160, 159492766, 4041488705, 3128952632, 2867295744, 3272632449, 886824304, 1791482600, 221114776, 3867175393, 4020804062, 1077871826, 1298953503, 996366221, 4149754679, 2483052703, 2615558283, 274318093, 1716359450, 4099129961, 1026774175, 288240973, 1459347562, 2365566296, 3690105224, 3065780221, 2050634722, 2652606621, 3185241207, 3026457375, 3456165734, 1880121515, 3398461093, 1795638629, 2379692076, 608668379, 1261955525, 84456522, 1913485156, 106878280, 757183891, 2913957588, 160418091, 2025664758, 141497907, 1657818026, 3053760160, 672193054, 4157546743, 223046484, 1623470498, 1201972930, 675008814, 684162366, 1738776330, 3025656654, 159760723, 1908867305, 3933381342, 2545706671, 467196949, 1427819885, 842150314, 4032903454, 2140851898, 3269883445, 975813755, 4177392955, 1556690684, 2535611513, 462962732, 67591358, 1729610528, 2025206740, 3153739740, 3255032049, 4186226368, 1070144624, 3107867195, 1621006038, 63742485, 835629717, 3189842019, 3950227584, 3184714559, 841836938, 1685394870, 657939920, 766156242, 1412314179, 1048281639, 4037161120, 2044490307, 1923947830, 3900790422, 907554295, 276417304, 860658646, 3574201134, 3508771399, 2110232300, 1636296241, 1405006077, 1093408401, 3243057343, 1519791182, 1994660136, 3829840937, 2644974199, 957955566, 3487641161, 1646922510, 1907939989, 3836029453, 3429168778, 201307778, 72550089, 2464394982, 1695794191, 3344785682, 996786130, 3589457196, 1241754792, 1291082245, 4224603667, 1194379475, 2693491244, 881186965, 2705535111, 445306946, 440274268, 1980827733, 2482488861, 3205215943, 2119332222, 2928713046, 1418736938, 652581136, 2474070665, 2208621536, 4171251876, 2303664214, 443762656, 2981912989, 2199228311, 2652261633, 3166738494, 3443009210, 3498764432, 424010848, 4065487566, 2262993542, 1756076712, 1477098233, 2742171915, 306185806, 3610666541, 923091830, 1034267993, 2336668648, 1880719718, 676878038, 3788797208, 3763351494, 3985428106, 1101865631, 1130501258, 3672967388, 3432003530, 4124438011, 1660392285, 4025484827, 2108074566, 3815409682, 42955331, 3248965569, 1643835718, 1246665668, 1071162194, 3814069229, 115491158, 985096811, 3311029186, 2990827378, 3101633320, 1648574497, 1470117052, 174145027, 2019894819, 2035501481, 459104123, 3507464599, 2093352659, 3369174406, 618767835, 4009895756, 935587447, 3956987426, 33753995, 307782427, 2473424805, 1440371818, 2382619594, 2138695812, 3164510238, 1318650933, 2910086616, 3886677510, 566832801, 3718063320, 1559818704, 183047272, 1142362855, 26306548, 645536402, 3875596208, 2272778168, 3512733409, 1897046338, 38248886, 2570759766, 1806313150, 860304898, 2433450338, 4124013408, 1216634590, 1275388896, 1169566669, 652504502, 761221427, 1448403764, 3129135949, 2513214949, 1269533687, 2413509541, 1226750363, 2450740925, 4094137910, 945759293, 3636927736, 3178020081, 2509964157, 3878869300, 1848504895, 2018369720, 1579755740, 1023627943, 924838836, 2653160914, 1812804174, 1521323076, 4012390528, 1338763317, 2608655937, 16022784, 1672945066, 2177189646, 2944458483, 2213810972, 1369873847, 1224017670, 130901785, 3595066712, 2259115284, 3316038259, 455873927, 2917250465, 3599550610, 1502173758, 684943436, 3079863840, 3144992244, 942855823, 1771140188, 2118780653, 3411494225, 2711180217, 4239611184, 1371891067, 3398566397, 3105518599, 1310665701, 3345178451, 2959821156, 242241789, 2148966880, 3192740583, 404401893, 3605380577, 1446464038, 3920522056, 2577523013, 1079274576, 286634372, 1752710796, 2351075979, 981312309, 3410516352, 3468455736, 1938779182, 1592494371, 1533303080, 88045436, 438252489, 1220512168, 3487004938, 3724852871, 1073434882, 3728218947, 2977555283, 4105408406, 3553772656, 1462006821, 3917158017, 119003006, 3470530198, 3439192457, 2829375771, 3555715155, 32324691, 588735808, 1459221702, 803072782, 2699519868, 1530797005, 79738580, 671990400, 4289511388, 3207115447, 2584684068, 832698998, 760958416, 1217440464, 2517898131, 2418819938, 3629956222, 3445024962, 206619378, 365007395, 522114139, 1707954431, 540423623, 1786750801, 369253262, 4239016754, 147889201, 1637777773, 236798285, 2806120188, 586972608, 2201782716, 1323327827, 819485723, 406078680, 3407345698, 1537169369, 1821691865, 527271655, 3751827102, 1465426495, 3321682429, 2179672664, 401355478, 1068871880, 24609462, 1403522408, 2311580015, 1532058170, 3877815340, 1768430711, 1619755157, 2832904331, 475102697, 354987331, 3295386430, 2816873951, 1039415736, 363972779, 1499307670, 2895506264, 3746345349, 2678027234, 3251899088, 955392878, 2329157295, 1343358773, 309573887, 2410178377, 2843173466, 361132917, 1755816798, 1319204283, 609284796, 1998842567, 1892325921, 223190385, 1483015769, 2876023365, 3876009312, 3199738344, 491524099, 160383137, 1219178873, 3870310498, 1114580266, 4279604166, 855339774, 1983818547, 2297848784, 4118592947, 4084409863, 2225095054, 4215601993, 946447434, 4205503762, 146088676, 778046685, 1876936928, 3157333726, 2173097090, 3215738813, 4135448234, 1219619643, 1936128689, 2897130162, 3336043946, 3779039524, 4200886837, 1359380925, 3402593091, 3140713935, 50855190, 3122065768, 1501584468, 2512255124, 687125154, 2666013386, 837819715, 3057258172, 3653455791, 2868624990, 322131992, 42534870, 4036564806, 798099710, 3533853670, 190914037, 3726947981, 2601169403, 602059656, 1365668439, 1918780004, 394790500, 277566007, 3891847777, 3365421094, 3139612253, 1380519090, 1183088424, 4203794803, 3049949521, 4214159484, 3446206962, 1875544460, 3207220027, 3288287026, 913535288, 178159620, 1410694581, 4190575040, 880731713, 1427805121, 404869072, 3413191414, 2865934056, 2899472677, 4239222733, 688404529, 3923323887, 933651074, 1199453686, 642723732, 2850614853, 3104368451, 3054041024, 3129913503, 2805843726, 1829781129, 3479062313, 650272704, 4224852052, 4085038685, 2616580676, 1793860711, 585126334, 2995262791, 520446536, 3855655015, 1571815563, 2240778227, 2051010344, 1694977983, 788402852, 1988089041, 2035558649, 1800063056, 1234412692, 2490862867, 417320514, 2415019489, 3374117797, 136034611, 898704236, 1247106941, 3923519397, 3563607190, 2454738671, 3522360389, 2672645476, 146828884, 3985140042, 4233949333, 1184742586, 860278824, 2815489967, 983483427, 3190081845, 3288865305, 3575181235, 1292151129, 4007823805, 4049420597, 3499391972, 1611182906, 1721268432, 2944249577, 2487212557, 789127738, 4027610014, 1057334138, 2902720905, 624), None), 'num_served': 5}\n",
            "All items drawn after resetting are equal: True\n"
          ],
          "name": "stdout"
        }
      ]
    },
    {
      "cell_type": "markdown",
      "metadata": {
        "id": "s02PzoieQxvy",
        "colab_type": "text"
      },
      "source": [
        "Since the `state` of the iterator is just a dictionary, you can serialize it along with your model weights and restore them to continue training from exact point where you have checkpointed it."
      ]
    },
    {
      "cell_type": "markdown",
      "metadata": {
        "id": "sG7Pk_KxHtzH",
        "colab_type": "text"
      },
      "source": [
        "# Making Infinibatch work with Pytorch Dataloaders\n",
        "\n",
        "Infinibatch by its very nature can be used only with `IterableDataset`. The training iterator with shuffling is infinite, so you must limit the training batches to some `n` steps if you want to maintain the notion of \"epochs\" to start validation. Or you can eschew whole notion of epochs by validating every `nth` step or both.\n",
        "\n",
        "> Note: The multi processing workers of `DataLoader` should be set to zero, with `num_workers=0`. Rather use `ParallelMapIterator` to parallelize your pre-processing.\n",
        "\n",
        "\n",
        "> Note: While using `IterableDataset` in the typical multi-gpu `DistributedDataParallel` (ddp) setup, you should pass `instance_rank` and `num_instances` to have different slices of data distributed to different training devices.\n",
        "\n",
        "> Warning: When using finite iterators with `ddp` for validation set, if you split the data using `instance_rank` option, the validation can get stuck.This can happen either when your dataset is not divisible by number of `ddp` processes or doing dynamic batching caused an uneven number of batches produced for each instance. So it's better to do the validation in one GPU setting `instance_rank=0`. This is a quick hack, if you find a better option please let me know in the comments.\n",
        "\n"
      ]
    },
    {
      "cell_type": "code",
      "metadata": {
        "id": "ByRw5_y6G7kW",
        "colab_type": "code",
        "colab": {}
      },
      "source": [
        "from torch.utils.data import IterableDataset\n",
        "import torch.distributed as dist\n",
        "\n",
        "class IterableCheckpointedDataset(IterableDataset):\n",
        "    \"\"\"\n",
        "    Wraps a CheckpointableIterator into a PyTorch IterableDataset, which is \n",
        "    recognized by its type by PyTorch's DataLoader class.\n",
        "    \"\"\"\n",
        "\n",
        "    def __init__(self, source: iterators.CheckpointableIterator, \n",
        "                 should_reset: bool):\n",
        "        super().__init__()\n",
        "        self._source = source\n",
        "        self._source_state = source.getstate()\n",
        "        self._should_reset = should_reset\n",
        "\n",
        "    def __iter__(self):  # this is called in the forked clone\n",
        "        worker_info = torch.utils.data.get_worker_info()\n",
        "        assert (\n",
        "            worker_info is None or worker_info.num_workers == 1\n",
        "        )  # not supported since we can't get at the checkpoint for each worker\n",
        "\n",
        "        if self._should_reset:\n",
        "            # For training, since it's infinite iterator, if we train for \n",
        "            # `n` batches with total instances less than dataset size\n",
        "            # it's better not to reset the iterator by itself will cycle back\n",
        "            # with a new shuffle order when all the instances are iterated once.\n",
        "            self._source.setstate(self._source_state)\n",
        "        return self._source\n",
        "\n",
        "\n",
        "\n",
        "def create_wiki_dataloader(chunks_glob: str,\n",
        "                           tokenizer: PreTrainedTokenizerFast,\n",
        "                           is_train: bool,\n",
        "                           max_seq_len: int = 512,\n",
        "                           tokens_per_batch: int = 2 ** 16, \n",
        "                           num_workers: int = 4,\n",
        "                           buffer_size: int = 100000, \n",
        "                           seed: int = 1337) -> DataLoader:\n",
        "\n",
        "    num_instances = 1\n",
        "    instance_rank = 0\n",
        "    if dist.is_available() and is_train:\n",
        "        # Only in training mode we want the data to be split.\n",
        "        # This is a hack to make dynamic batched iterators work while using ddp.\n",
        "        # If we were to split the data and number of batches turned out uneven, then\n",
        "        # Iterator might exhaust early in one GPU leaving it stuck there forever.\n",
        "        # So we rather choose to do the same validation in all the GPUs.\n",
        "        try:\n",
        "            num_instances = dist.get_world_size()\n",
        "            instance_rank = dist.get_rank()\n",
        "        except AssertionError:\n",
        "            pass\n",
        "\n",
        "    sentence_it = datasets.chunked_dataset_iterator(\n",
        "        chunk_refs = glob.glob(chunks_glob),\n",
        "        read_chunk_fn = read_chunk,\n",
        "        buffer_size = buffer_size, \n",
        "        seed = seed,\n",
        "        num_instances=num_instances,\n",
        "        instance_rank=instance_rank,\n",
        "        train=is_train,\n",
        "        shuffle=is_train # Shuffle Only on Train\n",
        "    )\n",
        "    tokenize_fn = partial(tokenizer, max_length=max_seq_len, truncation=True)\n",
        "    features_it = iterators.ParallelMapIterator(\n",
        "        source_iterator=sentence_it,\n",
        "        num_processes=num_workers,\n",
        "        num_items_per_process=1000,\n",
        "        transform=tokenize_fn\n",
        "    )\n",
        "    batches_it = iterators.BucketedReadaheadBatchIterator(\n",
        "        source_iterator=features_it,\n",
        "        read_ahead=10000, \n",
        "        key=lambda example: len(example['input_ids']),\n",
        "        batch_size=lambda longest: tokens_per_batch // len(longest['input_ids']),\n",
        "        seed=seed\n",
        "    )\n",
        "    collate_fn = partial(tokenizer.pad, return_tensors='pt')\n",
        "    tensors_it = iterators.MapIterator(\n",
        "        batches_it,\n",
        "        transform=collate_fn\n",
        "    )\n",
        "    dataset = IterableCheckpointedDataset(\n",
        "        source=tensors_it,\n",
        "        should_reset=not is_train #Reset only for validation\n",
        "    )\n",
        "    return DataLoader(dataset, \n",
        "                      # Very important to set this to 0.\n",
        "                      num_workers=0,\n",
        "                      # Important as we have already batched. \n",
        "                      batch_size=1,\n",
        "                      # Since batch has only one member which has all the \n",
        "                      #tensors already collated, we just return it.\n",
        "                      collate_fn=lambda x: x[0] \n",
        "                      )\n",
        "\n",
        "tokenizer = AutoTokenizer.from_pretrained(\"bert-base-cased\", use_fast=True)\n",
        "train_loader = create_wiki_dataloader('wikitext-103-chunks/train.*.txt.gz',\n",
        "                                      tokenizer=tokenizer,\n",
        "                                      is_train=True)\n",
        "\n",
        "val_loader =  create_wiki_dataloader('wikitext-103-chunks/train.*.txt.gz',\n",
        "                                      tokenizer=tokenizer,\n",
        "                                      is_train=False)\n",
        "\n",
        "#print(next(iter(train_loader)))\n",
        "#print(next(iter(val_loader)))"
      ],
      "execution_count": null,
      "outputs": []
    }
  ]
}